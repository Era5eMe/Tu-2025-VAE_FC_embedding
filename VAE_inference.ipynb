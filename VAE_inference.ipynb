{
 "cells": [
  {
   "cell_type": "code",
   "execution_count": 10,
   "metadata": {},
   "outputs": [
    {
     "name": "stdout",
     "output_type": "stream",
     "text": [
      "Downloading model file...\n",
      "Download complete.\n",
      "Downloading checkpoint: checkpoint49_2024-03-28_Zdim_2_Vae-beta_20.0_Lr_0.0001_Batch-size_128_washu120_subsample10_train100_val10.pth.tar\n",
      "Downloading checkpoint: checkpoint49_2024-06-21_Zdim_4_Vae-beta_20.0_Lr_0.0001_Batch-size_128_washu120_subsample10_train100_val10.pth.tar\n",
      "Downloading checkpoint: checkpoint49_2024-11-28_Zdim_3_Vae-beta_20.0_Lr_0.0001_Batch-size_128_washu120_subsample10_train100_val10.pth.tar\n"
     ]
    }
   ],
   "source": [
    "import os\n",
    "import requests\n",
    "\n",
    "# Download model file and checkpoints from HuggingFace\n",
    "if not os.path.exists(\"fMRIVAE_Model.py\"):\n",
    "    print(\"Downloading model file...\")\n",
    "    response = requests.get(\"https://huggingface.co/cindyhfls/fcMRI-VAE/resolve/main/fMRIVAE_Model.py\")\n",
    "    response.raise_for_status()  # Raise an error if the request fails\n",
    "    with open(\"fMRIVAE_Model.py\", \"wb\") as f:\n",
    "        f.write(response.content)\n",
    "    print(\"Download complete.\")\n",
    "else:\n",
    "    print(f\"fMRIVAE_Model.py already exists. Skipping download.\")\n",
    "\n",
    "checkpoint_filenames = [\n",
    "    \"checkpoint49_2024-03-28_Zdim_2_Vae-beta_20.0_Lr_0.0001_Batch-size_128_washu120_subsample10_train100_val10.pth.tar\", \n",
    "    \"checkpoint49_2024-06-21_Zdim_4_Vae-beta_20.0_Lr_0.0001_Batch-size_128_washu120_subsample10_train100_val10.pth.tar\", \n",
    "    \"checkpoint49_2024-11-28_Zdim_3_Vae-beta_20.0_Lr_0.0001_Batch-size_128_washu120_subsample10_train100_val10.pth.tar\"\n",
    "]\n",
    "\n",
    "for filename in checkpoint_filenames:\n",
    "    if not os.path.exists(\"Checkpoint/\" + filename):\n",
    "        print(f\"Downloading checkpoint: {filename}\")\n",
    "        url = \"https://huggingface.co/cindyhfls/fcMRI-VAE/resolve/main/Checkpoint/\" + filename\n",
    "        response = requests.get(url)\n",
    "        response.raise_for_status()  # Raise an error if the request fails\n",
    "        with open(\"Checkpoint/\" + filename, \"wb\") as f:\n",
    "            f.write(response.content)"
   ]
  },
  {
   "cell_type": "code",
   "execution_count": 11,
   "metadata": {},
   "outputs": [],
   "source": [
    "import torch\n",
    "import scipy.io as io\n",
    "# import argparse\n",
    "import logging\n",
    "from utils import load_dataset_test, save_image_mat\n",
    "from fMRIVAE_Model import BetaVAE"
   ]
  },
  {
   "cell_type": "code",
   "execution_count": null,
   "metadata": {},
   "outputs": [],
   "source": [
    "# --- Parameters (set these manually or through UI) ---\n",
    "batch_size = 16  # How many samples per saved file\n",
    "seed = 42\n",
    "zdim = 2 # latent dimension\n",
    "data_path = '/content/fmri_data/'        # Customize this path\n",
    "z_path = '/content/vae_output/latent/' \n",
    "resume = 'Checkpoint/checkpoint49_2024-03-28_Zdim_2_Vae-beta_20.0_Lr_0.0001_Batch-size_128_washu120_subsample10_train100_val10.pth.tar' # should correspond with zdim\n",
    "img_path = '/content/vae_output/recon/'\n",
    "mode = 'encode'  # 'encode', 'decode', or 'both'\n",
    "debug = True\n",
    "\n",
    "# --- Logging Setup ---\n",
    "logging_level = logging.DEBUG if debug else logging.INFO\n",
    "logging.basicConfig(level=logging_level, format='%(asctime)s - %(levelname)s - %(message)s')\n",
    "\n",
    "# --- Create directories if needed ---\n",
    "os.makedirs(z_path, exist_ok=True)\n",
    "if mode != 'encode':\n",
    "    os.makedirs(img_path, exist_ok=True)"
   ]
  },
  {
   "cell_type": "code",
   "execution_count": null,
   "metadata": {},
   "outputs": [],
   "source": [
    "# set seed and device\n",
    "torch.manual_seed(seed)\n",
    "device = torch.device(\"cuda\" if torch.cuda.is_available() else \"cpu\")\n",
    "logging.info(f\"Using device: {device}\")"
   ]
  },
  {
   "cell_type": "code",
   "execution_count": null,
   "metadata": {},
   "outputs": [],
   "source": [
    "# load model\n",
    "model = BetaVAE(z_dim=zdim, nc=1).to(device)\n",
    "if os.path.isfile(resume):\n",
    "    checkpoint = torch.load(resume, map_location=device)\n",
    "    model.load_state_dict(checkpoint['state_dict'])\n",
    "    logging.info(\"Checkpoint loaded successfully.\")\n",
    "else:\n",
    "    raise RuntimeError(f\"Checkpoint not found at {resume}\")"
   ]
  },
  {
   "cell_type": "code",
   "execution_count": null,
   "metadata": {},
   "outputs": [],
   "source": [
    "if mode in ['encode', 'both']:\n",
    "    logging.info(\"Starting encoding process...\")\n",
    "    test_loader = load_dataset_test(data_path, batch_size)\n",
    "    for batch_idx, (xL, xR) in enumerate(test_loader):\n",
    "        xL = xL.to(device)\n",
    "        xR = xR.to(device)\n",
    "        z_distribution = model._encode(xL, xR)\n",
    "        save_data = {'z_distribution': z_distribution.detach().cpu().numpy()}\n",
    "        io.savemat(os.path.join(z_path, f'save_z{batch_idx}.mat'), save_data)\n",
    "        logging.debug(f\"Encoded batch {batch_idx}\")\n",
    "\n",
    "if mode in ['decode', 'both']:\n",
    "    logging.info(\"Starting decoding process...\")\n",
    "    filelist = sorted([f for f in os.listdir(z_path) if f.startswith('save') and f.endswith('.mat')])\n",
    "    for batch_idx, filename in enumerate(filelist):\n",
    "        logging.debug(f\"Decoding file {filename}\")\n",
    "        z_dist = io.loadmat(os.path.join(z_path, filename))['z_distribution']\n",
    "        mu = z_dist[:, :zdim]\n",
    "        z = torch.tensor(mu).to(device)\n",
    "        x_recon_L, x_recon_R = model._decode(z)\n",
    "        save_image_mat(x_recon_R, x_recon_L, img_path, batch_idx)\n",
    "        logging.debug(f\"Decoded and saved batch {batch_idx}\")"
   ]
  }
 ],
 "metadata": {
  "kernelspec": {
   "display_name": "venv",
   "language": "python",
   "name": "python3"
  },
  "language_info": {
   "codemirror_mode": {
    "name": "ipython",
    "version": 3
   },
   "file_extension": ".py",
   "mimetype": "text/x-python",
   "name": "python",
   "nbconvert_exporter": "python",
   "pygments_lexer": "ipython3",
   "version": "3.8.10"
  }
 },
 "nbformat": 4,
 "nbformat_minor": 2
}
