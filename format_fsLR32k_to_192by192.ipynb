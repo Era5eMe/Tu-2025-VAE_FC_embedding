{
 "cells": [
  {
   "cell_type": "code",
   "execution_count": null,
   "metadata": {},
   "outputs": [],
   "source": [
    "import nibabel as nib\n",
    "import pandas as pd\n",
    "import numpy as np\n",
    "import os\n",
    "import scipy.io as sio"
   ]
  },
  {
   "cell_type": "code",
   "execution_count": 3,
   "metadata": {},
   "outputs": [],
   "source": [
    "def cifti2_filename(cifti1_path, output_dir):\n",
    "    basename = os.path.basename(cifti1_path)\n",
    "\n",
    "    # List of known CIFTI suffixes\n",
    "    known_suffixes = [\".dtseries.nii\", \".dconn.nii\", \".dscalar.nii\", \".dpconn.nii\"]\n",
    "\n",
    "    # Match and strip full suffix\n",
    "    for suffix in known_suffixes:\n",
    "        if basename.endswith(suffix):\n",
    "            stem = basename[: -len(suffix)]  # strip the full suffix\n",
    "            cifti2_name = f\"{stem}_cifti2{suffix}\"\n",
    "            return os.path.join(output_dir, cifti2_name)\n",
    "\n",
    "    raise ValueError(\"Unknown CIFTI suffix in filename\")"
   ]
  },
  {
   "cell_type": "code",
   "execution_count": null,
   "metadata": {},
   "outputs": [],
   "source": [
    "def calc_correlations(input_file, tmask):\n",
    "    if input_file.endswith(\".dtseries.nii\"):\n",
    "        cifti_img = nib.load(input_file)\n",
    "        cifti_data = cifti_img.get_fdata()\n",
    "        # cifti_header = cifti_img.header\n",
    "        bm_index_map = cifti_img.header.get_index_map(1)\n",
    "\n",
    "        # Initialize storage\n",
    "        vertex_indices = []\n",
    "        # Loop through the brain models in the index map\n",
    "        for bm in bm_index_map.brain_models:\n",
    "            structure = bm.brain_structure\n",
    "            if structure in ['CIFTI_STRUCTURE_CORTEX_LEFT', 'CIFTI_STRUCTURE_CORTEX_RIGHT']:\n",
    "                # Convert Cifti2VertexIndices to numpy array\n",
    "                offset = bm.index_offset\n",
    "                count = bm.index_count\n",
    "                vertex_indices.extend(range(offset, offset + count))\n",
    "\n",
    "        vertex_indices = np.array(vertex_indices)\n",
    "        cortex_ts = np.transpose(cifti_data[:, vertex_indices])\n",
    "        masked_cortex_ts = cortex_ts[:, tmask]\n",
    "        corr_matrix = np.corrcoef(masked_cortex_ts)\n",
    "        return corr_matrix\n",
    "    else:\n",
    "        raise ValueError(\"Input file must be a CIFTI-2 time-series file. \")"
   ]
  },
  {
   "cell_type": "code",
   "execution_count": null,
   "metadata": {},
   "outputs": [],
   "source": [
    "def format_data(corr_vec, transmat_path, img_size, rand_permutation, interval):\n",
    "    assert corr_vec.shape == (59412, )\n",
    "    left_data, right_data = corr_vec[:29697], corr_vec[29697:]\n",
    "    left_transmat = sio.loadmat(os.path.join(transmat_path, \"Left_fMRI2Grid_192_by_192_NN.mat\"))\n",
    "    right_transmat = sio.loadmat(os.path.join(transmat_path, \"Right_fMRI2Grid_192_by_192_NN.mat\"))\n",
    "    \n"
   ]
  },
  {
   "cell_type": "code",
   "execution_count": null,
   "metadata": {},
   "outputs": [
    {
     "name": "stdout",
     "output_type": "stream",
     "text": [
      "(59412, 59412)\n"
     ]
    }
   ],
   "source": [
    "example_cifti_cohort_filepath = \"./data/cohort_files/cohortfiles_washu120.txt\"\n",
    "example_tmask_cohort_filepath = \"./data/tmask_files/tmasklist_washu120.txt\"\n",
    "\n",
    "cifti_cohort_df = pd.read_csv(example_cifti_cohort_filepath, delim_whitespace=True, header=None)\n",
    "tmask_cohort_df = pd.read_csv(example_tmask_cohort_filepath, delim_whitespace=True, header=None)\n",
    "\n",
    "example_idx = 111\n",
    "subj, cifti1_path = cifti_cohort_df.iloc[example_idx, :2].tolist()\n",
    "tmask_subj, tmask_path = tmask_cohort_df.iloc[example_idx, :].tolist()\n",
    "assert subj == tmask_subj\n",
    "tmask = np.loadtxt(tmask_path, dtype=int).astype(bool)\n",
    "\n",
    "cifti2_path = cifti2_filename(cifti1_path, \"./data/washu120/\")\n",
    "\n",
    "cifti_img = nib.load(cifti2_path)\n",
    "cifti_data = cifti_img.get_fdata()\n",
    "cifti_header = cifti_img.header\n",
    "bm_index_map = cifti_img.header.get_index_map(1)\n",
    "\n",
    "# Initialize storage\n",
    "vertex_indices = []\n",
    "# Loop through the brain models in the index map\n",
    "for bm in bm_index_map.brain_models:\n",
    "    structure = bm.brain_structure\n",
    "    if structure in ['CIFTI_STRUCTURE_CORTEX_LEFT', 'CIFTI_STRUCTURE_CORTEX_RIGHT']:\n",
    "        # Convert Cifti2VertexIndices to numpy array\n",
    "        offset = bm.index_offset\n",
    "        count = bm.index_count\n",
    "        vertex_indices.extend(range(offset, offset + count))\n",
    "\n",
    "vertex_indices = np.array(vertex_indices)\n",
    "cortex_ts = np.transpose(cifti_data[:, vertex_indices])\n",
    "masked_cortex_ts = cortex_ts[:, tmask]\n",
    "corr_matrix = np.corrcoef(masked_cortex_ts)\n",
    "# print(corr_matrix.shape)"
   ]
  },
  {
   "cell_type": "code",
   "execution_count": null,
   "metadata": {},
   "outputs": [],
   "source": []
  }
 ],
 "metadata": {
  "kernelspec": {
   "display_name": "venv",
   "language": "python",
   "name": "python3"
  },
  "language_info": {
   "codemirror_mode": {
    "name": "ipython",
    "version": 3
   },
   "file_extension": ".py",
   "mimetype": "text/x-python",
   "name": "python",
   "nbconvert_exporter": "python",
   "pygments_lexer": "ipython3",
   "version": "3.8.10"
  }
 },
 "nbformat": 4,
 "nbformat_minor": 2
}
