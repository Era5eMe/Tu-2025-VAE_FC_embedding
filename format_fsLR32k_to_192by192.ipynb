{
 "cells": [
  {
   "cell_type": "code",
   "execution_count": 1,
   "metadata": {},
   "outputs": [],
   "source": [
    "import nibabel as nib\n",
    "import pandas as pd\n",
    "import numpy as np\n",
    "import os"
   ]
  },
  {
   "cell_type": "code",
   "execution_count": 2,
   "metadata": {},
   "outputs": [],
   "source": [
    "def cifti2_filename(cifti1_path, output_dir):\n",
    "    basename = os.path.basename(cifti1_path)\n",
    "\n",
    "    # List of known CIFTI suffixes\n",
    "    known_suffixes = [\".dtseries.nii\", \".dconn.nii\", \".dscalar.nii\", \".dpconn.nii\"]\n",
    "\n",
    "    # Match and strip full suffix\n",
    "    for suffix in known_suffixes:\n",
    "        if basename.endswith(suffix):\n",
    "            stem = basename[: -len(suffix)]  # strip the full suffix\n",
    "            cifti2_name = f\"{stem}_cifti2{suffix}\"\n",
    "            return os.path.join(output_dir, cifti2_name)\n",
    "\n",
    "    raise ValueError(\"Unknown CIFTI suffix in filename\")"
   ]
  },
  {
   "cell_type": "code",
   "execution_count": 3,
   "metadata": {},
   "outputs": [],
   "source": [
    "def calc_correlations(input_file, tmask):\n",
    "    if input_file.endswith(\".dtseries.nii\"):\n",
    "        cifti_img = nib.load(input_file)\n"
   ]
  },
  {
   "cell_type": "code",
   "execution_count": null,
   "metadata": {},
   "outputs": [
    {
     "ename": "TypeError",
     "evalue": "'module' object is not callable",
     "output_type": "error",
     "traceback": [
      "\u001b[0;31m---------------------------------------------------------------------------\u001b[0m",
      "\u001b[0;31mTypeError\u001b[0m                                 Traceback (most recent call last)",
      "Cell \u001b[0;32mIn[4], line 18\u001b[0m\n\u001b[1;32m     16\u001b[0m cifti_data \u001b[38;5;241m=\u001b[39m cifti_img\u001b[38;5;241m.\u001b[39mget_fdata()\n\u001b[1;32m     17\u001b[0m cifti_header \u001b[38;5;241m=\u001b[39m cifti_img\u001b[38;5;241m.\u001b[39mheader\n\u001b[0;32m---> 18\u001b[0m cifti_axes \u001b[38;5;241m=\u001b[39m \u001b[43mnib\u001b[49m\u001b[38;5;241;43m.\u001b[39;49m\u001b[43mcifti2\u001b[49m\u001b[38;5;241;43m.\u001b[39;49m\u001b[43mcifti2_axes\u001b[49m\u001b[43m(\u001b[49m\u001b[43mcifti_img\u001b[49m\u001b[43m)\u001b[49m\n\u001b[1;32m     19\u001b[0m bm_axes \u001b[38;5;241m=\u001b[39m cifti_axes[\u001b[38;5;241m1\u001b[39m] \u001b[38;5;66;03m# brain model axis\u001b[39;00m\n\u001b[1;32m     20\u001b[0m \u001b[38;5;28mprint\u001b[39m(\u001b[38;5;28mtype\u001b[39m(bm_axes))\n",
      "\u001b[0;31mTypeError\u001b[0m: 'module' object is not callable"
     ]
    }
   ],
   "source": [
    "example_cifti_cohort_filepath = \"./data/cohort_files/cohortfiles_washu120.txt\"\n",
    "example_tmask_cohort_filepath = \"./data/tmask_files/tmasklist_washu120.txt\"\n",
    "\n",
    "cifti_cohort_df = pd.read_csv(example_cifti_cohort_filepath, delim_whitespace=True, header=None)\n",
    "tmask_cohort_df = pd.read_csv(example_tmask_cohort_filepath, delim_whitespace=True, header=None)\n",
    "\n",
    "example_idx = 111\n",
    "subj, cifti1_path = cifti_cohort_df.iloc[example_idx, :2].tolist()\n",
    "tmask_subj, tmask_path = tmask_cohort_df.iloc[example_idx, :].tolist()\n",
    "assert subj == tmask_subj\n",
    "tmask = np.loadtxt(tmask_path, dtype=int)\n",
    "\n",
    "cifti2_path = cifti2_filename(cifti1_path, \"./data/washu120/\")\n",
    "\n",
    "cifti_img = nib.load(cifti2_path)\n",
    "cifti_data = cifti_img.get_fdata()\n",
    "cifti_header = cifti_img.header\n",
    "\n",
    "print(type(bm_axes))"
   ]
  },
  {
   "cell_type": "code",
   "execution_count": null,
   "metadata": {},
   "outputs": [],
   "source": []
  }
 ],
 "metadata": {
  "kernelspec": {
   "display_name": "venv",
   "language": "python",
   "name": "python3"
  },
  "language_info": {
   "codemirror_mode": {
    "name": "ipython",
    "version": 3
   },
   "file_extension": ".py",
   "mimetype": "text/x-python",
   "name": "python",
   "nbconvert_exporter": "python",
   "pygments_lexer": "ipython3",
   "version": "3.8.10"
  }
 },
 "nbformat": 4,
 "nbformat_minor": 2
}
